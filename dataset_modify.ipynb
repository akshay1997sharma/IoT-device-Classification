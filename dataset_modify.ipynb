{
  "cells": [
    {
      "cell_type": "markdown",
      "source": [
        ""
      ],
      "metadata": {
        "id": "_hs_xSX2ry9U"
      }
    },
    {
      "cell_type": "markdown",
      "source": [
        "This code reads and csv file and pre processes it."
      ],
      "metadata": {
        "id": "CHi5MrqQJdhr"
      }
    },
    {
      "cell_type": "code",
      "execution_count": null,
      "metadata": {
        "colab": {
          "base_uri": "https://localhost:8080/"
        },
        "id": "n5m-l8pTQFrc",
        "outputId": "e3874029-d8b3-40be-dcf7-a19b05822e37"
      },
      "outputs": [
        {
          "output_type": "stream",
          "name": "stdout",
          "text": [
            "Drive already mounted at /content/drive; to attempt to forcibly remount, call drive.mount(\"/content/drive\", force_remount=True).\n"
          ]
        }
      ],
      "source": [
        "from google.colab import drive\n",
        "drive.mount('/content/drive')"
      ]
    },
    {
      "cell_type": "code",
      "execution_count": null,
      "metadata": {
        "id": "NV-ErLuUUxnF"
      },
      "outputs": [],
      "source": [
        "import pandas as pd  \n",
        "import numpy as np \n",
        "from sklearn.metrics import f1_score, precision_score, recall_score, accuracy_score\n",
        "from sklearn.ensemble import RandomForestClassifier\n",
        "from sklearn.model_selection import cross_val_score\n",
        "from sklearn.metrics import classification_report\n",
        "from sklearn.metrics import confusion_matrix\n",
        "from sklearn import metrics\n",
        "import matplotlib.pyplot as plt\n",
        "import seaborn as sns\n",
        "from sklearn.model_selection import train_test_split\n",
        "from sklearn import preprocessing\n",
        "\n",
        "path = '/content/drive/MyDrive/Original dataset/16-10-12.csv'\n",
        "df = pd.read_csv(path)"
      ]
    },
    {
      "cell_type": "code",
      "execution_count": null,
      "metadata": {
        "id": "Kg5xySdoiMpY"
      },
      "outputs": [],
      "source": [
        "df_col = df[\"eth.src\"].astype(str)\n",
        "df_col = df[\"eth.dst\"].astype(str)\n",
        "\n",
        "def mapper1(mac_add):\n",
        "    if mac_add ==\"00:62:6e:51:27:2e\":\n",
        "        mac_encode = 29\n",
        "    elif mac_add == \"e8:ab:fa:19:de:4f\":\n",
        "        mac_encode =30\n",
        "    elif mac_add == \"08:21:ef:3b:fc:e3\":\n",
        "        mac_encode = 31\n",
        "    elif mac_add == \"40:f3:08:ff:1e:da\":\n",
        "        mac_encode = 32\n",
        "    elif mac_add == \"74:2f:68:81:69:42\":\n",
        "        mac_encode = 33\n",
        "    elif mac_add == \"ac:bc:32:d4:6f:2f\":\n",
        "        mac_encode =34\n",
        "    elif mac_add == \"b4:ce:f6:a7:a3:c2\":\n",
        "        mac_encode =35\n",
        "    elif mac_add == \"d0:a6:37:df:a1:e1\":\n",
        "        mac_encode = 36\n",
        "    elif mac_add == \"f4:5c:89:93:cc:85\":\n",
        "        mac_encode = 37\n",
        "    elif mac_add == \"14:cc:20:51:33:ea\":\n",
        "        mac_encode = 38\n",
        "    elif mac_add == \"01:00:5e:7f:ff:fa\":\n",
        "        mac_encode =39\n",
        "    else:\n",
        "        mac_encode = -1 \n",
        "    return mac_encode"
      ]
    },
    {
      "cell_type": "code",
      "execution_count": null,
      "metadata": {
        "id": "ho7FpvEKFp5P"
      },
      "outputs": [],
      "source": [
        "df_col = df[\"eth.src\"].astype(str)\n",
        "df_col = df[\"eth.dst\"].astype(str)\n",
        "\n",
        "def mapper(mac_add):\n",
        "    if mac_add ==\"44:65:0d:56:cc:d3\":\n",
        "        mac_encode = 1\n",
        "    elif mac_add == \"e0:76:d0:3f:00:ae\":\n",
        "        mac_encode = 2\n",
        "    elif mac_add == \"70:88:6b:10:0f:c6\":\n",
        "        mac_encode = 3\n",
        "    elif mac_add == \"b4:75:0e:ec:e5:a9\":\n",
        "        mac_encode = 4\n",
        "    elif mac_add == \"ec:1a:59:83:28:11\":\n",
        "        mac_encode = 5\n",
        "    elif mac_add == \"ec:1a:59:79:f4:89\":\n",
        "        mac_encode = 6\n",
        "    elif mac_add == \"74:6a:89:00:2e:25\":\n",
        "        mac_encode = 7\n",
        "    elif mac_add == \"7c:70:bc:5d:5e:dc\":\n",
        "        mac_encode = 8\n",
        "    elif mac_add == \"30:8c:fb:2f:e4:b2\":\n",
        "        mac_encode = 9\n",
        "    elif mac_add == \"6c:ad:f8:5e:e4:61\":\n",
        "        mac_encode = 10\n",
        "    elif mac_add == \"28:c2:dd:ff:a5:2d\":\n",
        "        mac_encode =11\n",
        "    elif mac_add == \"70:5a:0f:e4:9b:c0\":\n",
        "        mac_encode = 12\n",
        "    elif mac_add == \"74:c6:3b:29:d7:1d\":\n",
        "        mac_encode = 13\n",
        "    elif mac_add == \"d0:73:d5:01:83:08\":\n",
        "        mac_encode = 14\n",
        "    elif mac_add == \"18:b4:30:25:be:e4\":\n",
        "        mac_encode = 15\n",
        "    elif mac_add == \"70:ee:50:18:34:43\":\n",
        "        mac_encode = 16\n",
        "    elif mac_add == \"70:ee:50:03:b8:ac\":\n",
        "        mac_encode = 17\n",
        "    elif mac_add == \"00:17:88:2b:9a:25\":\n",
        "        mac_encode = 18\n",
        "    elif mac_add == \"e0:76:d0:33:bb:85\":\n",
        "        mac_encode = 19\n",
        "    elif mac_add == \"88:4a:ea:31:66:9d\":\n",
        "        mac_encode = 20\n",
        "    elif mac_add == \"00:16:6c:ab:6b:88\":\n",
        "        mac_encode = 21\n",
        "    elif mac_add == \"d0:52:a8:00:67:5e\":\n",
        "        mac_encode = 22\n",
        "    elif mac_add == \"f4:f2:6d:93:51:f1\":\n",
        "        mac_encode = 23\n",
        "    elif mac_add == \"50:c7:bf:00:56:39\":\n",
        "        mac_encode = 24\n",
        "    elif mac_add == \"18:b7:9e:02:20:44\":\n",
        "        mac_encode = 25\n",
        "    elif mac_add == \"00:24:e4:10:ee:4c\":\n",
        "        mac_encode = 26\n",
        "    elif mac_add == \"00:24:e4:1b:6f:96\":\n",
        "        mac_encode = 27\n",
        "    elif mac_add == \"00:24:e4:20:28:c6\":\n",
        "        mac_encode = 28\n",
        "    else:\n",
        "        mac_encode = -1 \n",
        "    return mac_encode\n",
        "    \n",
        "col = df['eth.src'].apply(mapper)\n",
        "col1 = df['eth.dst'].apply(mapper)\n",
        "\n",
        "df['label_SRC']=col\n",
        "df['label_DST']=col1"
      ]
    },
    {
      "cell_type": "code",
      "execution_count": null,
      "metadata": {
        "id": "1AjSaXQbSRHv"
      },
      "outputs": [],
      "source": [
        "without_1 = df[df['label_SRC'] != -1]"
      ]
    },
    {
      "cell_type": "code",
      "execution_count": null,
      "metadata": {
        "colab": {
          "base_uri": "https://localhost:8080/"
        },
        "id": "b_38VUTTMyU3",
        "outputId": "629ec90e-b5bb-4d09-c8fe-ee1391210a5d"
      },
      "outputs": [
        {
          "output_type": "stream",
          "name": "stderr",
          "text": [
            "/usr/local/lib/python3.7/dist-packages/ipykernel_launcher.py:3: SettingWithCopyWarning: \n",
            "A value is trying to be set on a copy of a slice from a DataFrame.\n",
            "Try using .loc[row_indexer,col_indexer] = value instead\n",
            "\n",
            "See the caveats in the documentation: https://pandas.pydata.org/pandas-docs/stable/user_guide/indexing.html#returning-a-view-versus-a-copy\n",
            "  This is separate from the ipykernel package so we can avoid doing imports until\n"
          ]
        }
      ],
      "source": [
        "temp = df[df['label_SRC'] == -1]\n",
        "col = temp['eth.src'].apply(mapper1)\n",
        "temp['label_SRC']=col"
      ]
    },
    {
      "cell_type": "code",
      "execution_count": null,
      "metadata": {
        "id": "ssevbuTXTLET"
      },
      "outputs": [],
      "source": [
        "result= without_1.append(temp)"
      ]
    },
    {
      "cell_type": "code",
      "execution_count": null,
      "metadata": {
        "id": "hbVcSIf1Uejj"
      },
      "outputs": [],
      "source": [
        "result = result.sort_values(by=['Packet ID'])"
      ]
    },
    {
      "cell_type": "code",
      "execution_count": null,
      "metadata": {
        "id": "_6_BXuLSZin1"
      },
      "outputs": [],
      "source": [
        "def mapper2(l):\n",
        "    if l>0 and l<29:\n",
        "        mac_encode = 1\n",
        "    else:\n",
        "        mac_encode =  0\n",
        "    return mac_encode"
      ]
    },
    {
      "cell_type": "code",
      "execution_count": null,
      "metadata": {
        "id": "it1R4h8sZWsB"
      },
      "outputs": [],
      "source": [
        "col = df['label_SRC'].apply(mapper2)\n",
        "result['SRC']=col"
      ]
    },
    {
      "cell_type": "code",
      "execution_count": null,
      "metadata": {
        "id": "dj4OP9W0Y8nw",
        "colab": {
          "base_uri": "https://localhost:8080/"
        },
        "outputId": "bbea24b0-5ab1-411d-f524-862c03cab897"
      },
      "outputs": [
        {
          "output_type": "stream",
          "name": "stderr",
          "text": [
            "/usr/local/lib/python3.7/dist-packages/ipykernel_launcher.py:4: SettingWithCopyWarning: \n",
            "A value is trying to be set on a copy of a slice from a DataFrame.\n",
            "Try using .loc[row_indexer,col_indexer] = value instead\n",
            "\n",
            "See the caveats in the documentation: https://pandas.pydata.org/pandas-docs/stable/user_guide/indexing.html#returning-a-view-versus-a-copy\n",
            "  after removing the cwd from sys.path.\n"
          ]
        }
      ],
      "source": [
        "without_1 = result[result['label_DST'] != -1]\n",
        "temp = result[result['label_DST'] == -1]\n",
        "col = temp['eth.dst'].apply(mapper1)\n",
        "temp['label_DST']=col\n",
        "result= without_1.append(temp)\n",
        "result = result.sort_values(by=['Packet ID'])\n",
        "col = df['label_DST'].apply(mapper2)\n",
        "result['DST']=col"
      ]
    },
    {
      "cell_type": "code",
      "execution_count": null,
      "metadata": {
        "id": "61GYdGOZdNge"
      },
      "outputs": [],
      "source": [
        "def mapper3(x,y):\n",
        "    if x==0 and y==0:\n",
        "        mac_encode = \"unknown\"\n",
        "    elif x==1 and y==1:\n",
        "        mac_encode =  \"bi directional\"\n",
        "    else:\n",
        "      mac_encode =  \"uni directional\"\n",
        "    return mac_encode"
      ]
    },
    {
      "cell_type": "code",
      "execution_count": null,
      "metadata": {
        "id": "OMFrYST8dlfX"
      },
      "outputs": [],
      "source": [
        "result['FlowType'] = result.apply(lambda result : mapper3(x = result['SRC'], y = result['DST']), axis=1)"
      ]
    },
    {
      "cell_type": "code",
      "execution_count": null,
      "metadata": {
        "id": "jZNTFWP6e8Bs"
      },
      "outputs": [],
      "source": [
        "def mapper4(x,y):\n",
        "    if x>0 and x<29:\n",
        "        mac_encode = x\n",
        "    elif y>0 and y<29:\n",
        "        mac_encode =  y\n",
        "    else:\n",
        "      mac_encode =  -1\n",
        "    return mac_encode"
      ]
    },
    {
      "cell_type": "code",
      "execution_count": null,
      "metadata": {
        "id": "7KwSNWfrgStB"
      },
      "outputs": [],
      "source": [
        "result['Label'] = result.apply(lambda result : mapper4(x = result['label_SRC'], y = result['label_DST']), axis=1)"
      ]
    },
    {
      "cell_type": "code",
      "execution_count": null,
      "metadata": {
        "id": "EadvKMWRiUtz"
      },
      "outputs": [],
      "source": [
        "result= result.drop(['DST'], axis = 1)"
      ]
    },
    {
      "cell_type": "code",
      "execution_count": null,
      "metadata": {
        "id": "uXyMFSYCi6Ck"
      },
      "outputs": [],
      "source": [
        "result= result.drop(['SRC'], axis = 1)\n"
      ]
    },
    {
      "cell_type": "code",
      "execution_count": null,
      "metadata": {
        "id": "tx8pC0FvjYlN"
      },
      "outputs": [],
      "source": [
        "result.to_csv('16-10-12.csv')"
      ]
    }
  ],
  "metadata": {
    "colab": {
      "collapsed_sections": [],
      "name": "dataset modify",
      "provenance": []
    },
    "kernelspec": {
      "display_name": "Python 3",
      "name": "python3"
    },
    "language_info": {
      "name": "python"
    }
  },
  "nbformat": 4,
  "nbformat_minor": 0
}