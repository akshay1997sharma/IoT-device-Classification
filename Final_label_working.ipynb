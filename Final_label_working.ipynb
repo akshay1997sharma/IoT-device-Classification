{
  "cells": [
    {
      "cell_type": "markdown",
      "source": [
        "This code reads a csv file and pre processes the file(labels+ encoding) and then performs the classification."
      ],
      "metadata": {
        "id": "N5hBvAFoJEyy"
      }
    },
    {
      "cell_type": "code",
      "execution_count": null,
      "metadata": {
        "colab": {
          "base_uri": "https://localhost:8080/"
        },
        "id": "n5m-l8pTQFrc",
        "outputId": "853a0491-f5f1-442a-afe4-90438fa8125e"
      },
      "outputs": [
        {
          "output_type": "stream",
          "name": "stdout",
          "text": [
            "Drive already mounted at /content/drive; to attempt to forcibly remount, call drive.mount(\"/content/drive\", force_remount=True).\n"
          ]
        }
      ],
      "source": [
        "from google.colab import drive\n",
        "drive.mount('/content/drive')"
      ]
    },
    {
      "cell_type": "code",
      "execution_count": null,
      "metadata": {
        "id": "NV-ErLuUUxnF"
      },
      "outputs": [],
      "source": [
        "import pandas as pd  \n",
        "import numpy as np \n",
        "from sklearn.metrics import f1_score, precision_score, recall_score, accuracy_score\n",
        "from sklearn.ensemble import RandomForestClassifier\n",
        "from sklearn.model_selection import cross_val_score\n",
        "from sklearn.metrics import classification_report\n",
        "from sklearn.metrics import confusion_matrix\n",
        "from sklearn import metrics\n",
        "import matplotlib.pyplot as plt\n",
        "import seaborn as sns\n",
        "from sklearn.model_selection import train_test_split\n",
        "from sklearn import preprocessing\n",
        "\n",
        "path = '/content/drive/MyDrive/Original dataset/16-10-09.csv'\n",
        "df = pd.read_csv(path)"
      ]
    },
    {
      "cell_type": "code",
      "execution_count": null,
      "metadata": {
        "id": "Kg5xySdoiMpY"
      },
      "outputs": [],
      "source": [
        "df_col = df[\"eth.src\"].astype(str)\n",
        "df_col = df[\"eth.dst\"].astype(str)\n",
        "\n",
        "def mapper1(mac_add):\n",
        "    if mac_add ==\"00:62:6e:51:27:2e\":\n",
        "        mac_encode = 29\n",
        "    elif mac_add == \"e8:ab:fa:19:de:4f\":\n",
        "        mac_encode =30\n",
        "    elif mac_add == \"08:21:ef:3b:fc:e3\":\n",
        "        mac_encode = 31\n",
        "    elif mac_add == \"40:f3:08:ff:1e:da\":\n",
        "        mac_encode = 32\n",
        "    elif mac_add == \"74:2f:68:81:69:42\":\n",
        "        mac_encode = 33\n",
        "    elif mac_add == \"ac:bc:32:d4:6f:2f\":\n",
        "        mac_encode =34\n",
        "    elif mac_add == \"b4:ce:f6:a7:a3:c2\":\n",
        "        mac_encode =35\n",
        "    elif mac_add == \"d0:a6:37:df:a1:e1\":\n",
        "        mac_encode = 36\n",
        "    elif mac_add == \"f4:5c:89:93:cc:85\":\n",
        "        mac_encode = 37\n",
        "    elif mac_add == \"14:cc:20:51:33:ea\":\n",
        "        mac_encode = 38\n",
        "    elif mac_add == \"01:00:5e:7f:ff:fa\":\n",
        "        mac_encode =39\n",
        "    else:\n",
        "        mac_encode = -1 \n",
        "    return mac_encode"
      ]
    },
    {
      "cell_type": "code",
      "execution_count": null,
      "metadata": {
        "id": "ho7FpvEKFp5P"
      },
      "outputs": [],
      "source": [
        "df_col = df[\"eth.src\"].astype(str)\n",
        "df_col = df[\"eth.dst\"].astype(str)\n",
        "\n",
        "def mapper(mac_add):\n",
        "    if mac_add ==\"44:65:0d:56:cc:d3\":\n",
        "        mac_encode = 1\n",
        "    elif mac_add == \"e0:76:d0:3f:00:ae\":\n",
        "        mac_encode = 2\n",
        "    elif mac_add == \"70:88:6b:10:0f:c6\":\n",
        "        mac_encode = 3\n",
        "    elif mac_add == \"b4:75:0e:ec:e5:a9\":\n",
        "        mac_encode = 4\n",
        "    elif mac_add == \"ec:1a:59:83:28:11\":\n",
        "        mac_encode = 5\n",
        "    elif mac_add == \"ec:1a:59:79:f4:89\":\n",
        "        mac_encode = 6\n",
        "    elif mac_add == \"74:6a:89:00:2e:25\":\n",
        "        mac_encode = 7\n",
        "    elif mac_add == \"7c:70:bc:5d:5e:dc\":\n",
        "        mac_encode = 8\n",
        "    elif mac_add == \"30:8c:fb:2f:e4:b2\":\n",
        "        mac_encode = 9\n",
        "    elif mac_add == \"6c:ad:f8:5e:e4:61\":\n",
        "        mac_encode = 10\n",
        "    elif mac_add == \"28:c2:dd:ff:a5:2d\":\n",
        "        mac_encode =11\n",
        "    elif mac_add == \"70:5a:0f:e4:9b:c0\":\n",
        "        mac_encode = 12\n",
        "    elif mac_add == \"74:c6:3b:29:d7:1d\":\n",
        "        mac_encode = 13\n",
        "    elif mac_add == \"d0:73:d5:01:83:08\":\n",
        "        mac_encode = 14\n",
        "    elif mac_add == \"18:b4:30:25:be:e4\":\n",
        "        mac_encode = 15\n",
        "    elif mac_add == \"70:ee:50:18:34:43\":\n",
        "        mac_encode = 16\n",
        "    elif mac_add == \"70:ee:50:03:b8:ac\":\n",
        "        mac_encode = 17\n",
        "    elif mac_add == \"00:17:88:2b:9a:25\":\n",
        "        mac_encode = 18\n",
        "    elif mac_add == \"e0:76:d0:33:bb:85\":\n",
        "        mac_encode = 19\n",
        "    elif mac_add == \"88:4a:ea:31:66:9d\":\n",
        "        mac_encode = 20\n",
        "    elif mac_add == \"00:16:6c:ab:6b:88\":\n",
        "        mac_encode = 21\n",
        "    elif mac_add == \"d0:52:a8:00:67:5e\":\n",
        "        mac_encode = 22\n",
        "    elif mac_add == \"f4:f2:6d:93:51:f1\":\n",
        "        mac_encode = 23\n",
        "    elif mac_add == \"50:c7:bf:00:56:39\":\n",
        "        mac_encode = 24\n",
        "    elif mac_add == \"18:b7:9e:02:20:44\":\n",
        "        mac_encode = 25\n",
        "    elif mac_add == \"00:24:e4:10:ee:4c\":\n",
        "        mac_encode = 26\n",
        "    elif mac_add == \"00:24:e4:1b:6f:96\":\n",
        "        mac_encode = 27\n",
        "    elif mac_add == \"00:24:e4:20:28:c6\":\n",
        "        mac_encode = 28\n",
        "    else:\n",
        "        mac_encode = -1 \n",
        "    return mac_encode\n",
        "    \n",
        "col = df['eth.src'].apply(mapper)\n",
        "col1 = df['eth.dst'].apply(mapper)\n",
        "\n",
        "df['label_SRC']=col\n",
        "df['label_DST']=col1"
      ]
    },
    {
      "cell_type": "code",
      "execution_count": null,
      "metadata": {
        "id": "1AjSaXQbSRHv"
      },
      "outputs": [],
      "source": [
        "without_1 = df[df['label_SRC'] != -1]"
      ]
    },
    {
      "cell_type": "code",
      "execution_count": null,
      "metadata": {
        "colab": {
          "base_uri": "https://localhost:8080/"
        },
        "id": "b_38VUTTMyU3",
        "outputId": "dc6e2122-a018-4ccc-b0c9-6b4f02c63f1b"
      },
      "outputs": [
        {
          "output_type": "stream",
          "name": "stderr",
          "text": [
            "/usr/local/lib/python3.7/dist-packages/ipykernel_launcher.py:3: SettingWithCopyWarning: \n",
            "A value is trying to be set on a copy of a slice from a DataFrame.\n",
            "Try using .loc[row_indexer,col_indexer] = value instead\n",
            "\n",
            "See the caveats in the documentation: https://pandas.pydata.org/pandas-docs/stable/user_guide/indexing.html#returning-a-view-versus-a-copy\n",
            "  This is separate from the ipykernel package so we can avoid doing imports until\n"
          ]
        }
      ],
      "source": [
        "temp = df[df['label_SRC'] == -1]\n",
        "col = temp['eth.src'].apply(mapper1)\n",
        "temp['label_SRC']=col"
      ]
    },
    {
      "cell_type": "code",
      "execution_count": null,
      "metadata": {
        "id": "ssevbuTXTLET"
      },
      "outputs": [],
      "source": [
        "result= without_1.append(temp)"
      ]
    },
    {
      "cell_type": "code",
      "execution_count": null,
      "metadata": {
        "id": "hbVcSIf1Uejj"
      },
      "outputs": [],
      "source": [
        "result = result.sort_values(by=['Packet ID'])"
      ]
    },
    {
      "cell_type": "code",
      "execution_count": null,
      "metadata": {
        "id": "_6_BXuLSZin1"
      },
      "outputs": [],
      "source": [
        "def mapper2(l):\n",
        "    if l>0 and l<29:\n",
        "        mac_encode = 1\n",
        "    else:\n",
        "        mac_encode =  0\n",
        "    return mac_encode"
      ]
    },
    {
      "cell_type": "code",
      "execution_count": null,
      "metadata": {
        "id": "it1R4h8sZWsB"
      },
      "outputs": [],
      "source": [
        "col = df['label_SRC'].apply(mapper2)\n",
        "result['SRC']=col"
      ]
    },
    {
      "cell_type": "code",
      "execution_count": null,
      "metadata": {
        "id": "dj4OP9W0Y8nw",
        "colab": {
          "base_uri": "https://localhost:8080/"
        },
        "outputId": "d127dc68-1347-4c6c-9e07-b8ded36912fb"
      },
      "outputs": [
        {
          "output_type": "stream",
          "name": "stderr",
          "text": [
            "/usr/local/lib/python3.7/dist-packages/ipykernel_launcher.py:4: SettingWithCopyWarning: \n",
            "A value is trying to be set on a copy of a slice from a DataFrame.\n",
            "Try using .loc[row_indexer,col_indexer] = value instead\n",
            "\n",
            "See the caveats in the documentation: https://pandas.pydata.org/pandas-docs/stable/user_guide/indexing.html#returning-a-view-versus-a-copy\n",
            "  after removing the cwd from sys.path.\n"
          ]
        }
      ],
      "source": [
        "without_1 = result[result['label_DST'] != -1]\n",
        "temp = result[result['label_DST'] == -1]\n",
        "col = temp['eth.dst'].apply(mapper1)\n",
        "temp['label_DST']=col\n",
        "result= without_1.append(temp)\n",
        "result = result.sort_values(by=['Packet ID'])\n",
        "col = df['label_DST'].apply(mapper2)\n",
        "result['DST']=col"
      ]
    },
    {
      "cell_type": "code",
      "execution_count": null,
      "metadata": {
        "id": "61GYdGOZdNge"
      },
      "outputs": [],
      "source": [
        "def mapper3(x,y):\n",
        "    if x==0 and y==0:\n",
        "        mac_encode = \"unknown\"\n",
        "    elif x==1 and y==1:\n",
        "        mac_encode =  \"bi directional\"\n",
        "    else:\n",
        "      mac_encode =  \"uni directional\"\n",
        "    return mac_encode"
      ]
    },
    {
      "cell_type": "code",
      "execution_count": null,
      "metadata": {
        "id": "OMFrYST8dlfX"
      },
      "outputs": [],
      "source": [
        "result['FlowType'] = result.apply(lambda result : mapper3(x = result['SRC'], y = result['DST']), axis=1)"
      ]
    },
    {
      "cell_type": "code",
      "execution_count": null,
      "metadata": {
        "id": "jZNTFWP6e8Bs"
      },
      "outputs": [],
      "source": [
        "def mapper4(x,y):\n",
        "    if x>0 and x<29:\n",
        "        mac_encode = x\n",
        "    elif y>0 and y<29:\n",
        "        mac_encode =  y\n",
        "    else:\n",
        "      mac_encode =  -1\n",
        "    return mac_encode"
      ]
    },
    {
      "cell_type": "code",
      "execution_count": null,
      "metadata": {
        "id": "7KwSNWfrgStB"
      },
      "outputs": [],
      "source": [
        "result['Label'] = result.apply(lambda result : mapper4(x = result['label_SRC'], y = result['label_DST']), axis=1)"
      ]
    },
    {
      "cell_type": "code",
      "execution_count": null,
      "metadata": {
        "id": "EadvKMWRiUtz"
      },
      "outputs": [],
      "source": [
        "result= result.drop(['DST'], axis = 1)"
      ]
    },
    {
      "cell_type": "code",
      "execution_count": null,
      "metadata": {
        "id": "uXyMFSYCi6Ck"
      },
      "outputs": [],
      "source": [
        "result= result.drop(['SRC'], axis = 1)\n"
      ]
    },
    {
      "cell_type": "code",
      "execution_count": null,
      "metadata": {
        "id": "tx8pC0FvjYlN"
      },
      "outputs": [],
      "source": [
        "result.to_csv('newcsv.csv')"
      ]
    },
    {
      "cell_type": "code",
      "execution_count": null,
      "metadata": {
        "id": "zHCeWKFfs1It"
      },
      "outputs": [],
      "source": [
        "def train_test(clf, X_train, y_train, X_test, y_test):\n",
        "#     clf = RandomForestClassifier(n_estimators=100)\n",
        "\n",
        "    clf.fit(X_train,y_train)\n",
        "\n",
        "    y_pred=clf.predict(X_test)\n",
        "    f1s = f1_score(y_test, y_pred, average='macro')\n",
        "    acc = metrics.accuracy_score(y_test, y_pred)\n",
        "    precision = precision_score(y_test, y_pred, average='macro')\n",
        "    recall = recall_score(y_test, y_pred, average='macro')\n",
        "#     print(\"F1 Score: \", f1s)\n",
        "#     print(\"Accuracy:\", acc)\n",
        "#     print(\"Confusion Matrix: \\n\", confusion_matrix(y_test, y_pred))\n",
        "#     print(classification_report(y_test, y_pred))\n",
        "    return [f1s, acc, precision, recall]"
      ]
    },
    {
      "cell_type": "code",
      "execution_count": null,
      "metadata": {
        "id": "nvhCHZsY65h0"
      },
      "outputs": [],
      "source": [
        "def one_hot_helper(df,cols):\n",
        "  for each in cols:\n",
        "    dummies = pd.get_dummies(df[each], prefix=each, drop_first=False)\n",
        "    df = pd.concat([df, dummies], axis=1)\n",
        "    df = df.drop(columns = [each], axis=1)\n",
        "  return df"
      ]
    },
    {
      "cell_type": "code",
      "execution_count": null,
      "metadata": {
        "id": "NGVFYkJq69XZ"
      },
      "outputs": [],
      "source": [
        "categorical_col  = [col for col in result.columns if result[col].dtype == \"object\"]\n"
      ]
    },
    {
      "cell_type": "code",
      "source": [
        "categorical_col"
      ],
      "metadata": {
        "id": "J-uO5XlVDD0Q",
        "colab": {
          "base_uri": "https://localhost:8080/"
        },
        "outputId": "3b6a4c01-939d-4339-ed95-a9b8d9da418f"
      },
      "execution_count": null,
      "outputs": [
        {
          "output_type": "execute_result",
          "data": {
            "text/plain": [
              "['eth.src', 'eth.dst', 'IP.src', 'IP.dst', 'FlowType']"
            ]
          },
          "metadata": {},
          "execution_count": 24
        }
      ]
    },
    {
      "cell_type": "code",
      "source": [
        "result['eth.src']=result['eth.src'].map({'44:65:0d:56:cc:d3':1,'e0:76:d0:3f:00:ae':2,\"70:88:6b:10:0f:c6\":3,\"b4:75:0e:ec:e5:a9\":4,\"ec:1a:59:83:28:11\":5,\"ec:1a:59:79:f4:89\":6,\"74:6a:89:00:2e:25\":7,\"7c:70:bc:5d:5e:dc\":8,\"30:8c:fb:2f:e4:b2\":9,\"6c:ad:f8:5e:e4:61\":10,\"28:c2:dd:ff:a5:2d\":11,\"70:5a:0f:e4:9b:c0\":12,\"74:c6:3b:29:d7:1d\":13,\"d0:73:d5:01:83:08\":14,\"18:b4:30:25:be:e4\":15,\"70:ee:50:18:34:43\":16,\"70:ee:50:03:b8:ac\":17,\"00:17:88:2b:9a:25\":18,\"e0:76:d0:33:bb:85\":19,\"88:4a:ea:31:66:9d\":20,\"00:16:6c:ab:6b:88\":21,\"d0:52:a8:00:67:5e\":22,\"f4:f2:6d:93:51:f1\":23,\"50:c7:bf:00:56:39\":24,\"18:b7:9e:02:20:44\":25,\"00:24:e4:10:ee:4c\":26,\"00:24:e4:1b:6f:96\":27,\"00:24:e4:20:28:c6\":28,\"00:62:6e:51:27:2e\":29,'e8:ab:fa:19:de:4f':30,\"08:21:ef:3b:fc:e3\":31,\"40:f3:08:ff:1e:da\":32,\"74:2f:68:81:69:42\":33,\"ac:bc:32:d4:6f:2f\":34,\"b4:ce:f6:a7:a3:c2\":35,\"d0:a6:37:df:a1:e1\":36,\"f4:5c:89:93:cc:85\":37,\"14:cc:20:51:33:ea\":38,\"01:00:5e:7f:ff:fa\":39},na_action=None).replace({np.NaN:-1})"
      ],
      "metadata": {
        "id": "xrlOsIi06shA"
      },
      "execution_count": null,
      "outputs": []
    },
    {
      "cell_type": "code",
      "source": [
        "result['eth.dst']=result['eth.dst'].map({'44:65:0d:56:cc:d3':1,'e0:76:d0:3f:00:ae':2,\"70:88:6b:10:0f:c6\":3,\"b4:75:0e:ec:e5:a9\":4,\"ec:1a:59:83:28:11\":5,\"ec:1a:59:79:f4:89\":6,\"74:6a:89:00:2e:25\":7,\"7c:70:bc:5d:5e:dc\":8,\"30:8c:fb:2f:e4:b2\":9,\"6c:ad:f8:5e:e4:61\":10,\"28:c2:dd:ff:a5:2d\":11,\"70:5a:0f:e4:9b:c0\":12,\"74:c6:3b:29:d7:1d\":13,\"d0:73:d5:01:83:08\":14,\"18:b4:30:25:be:e4\":15,\"70:ee:50:18:34:43\":16,\"70:ee:50:03:b8:ac\":17,\"00:17:88:2b:9a:25\":18,\"e0:76:d0:33:bb:85\":19,\"88:4a:ea:31:66:9d\":20,\"00:16:6c:ab:6b:88\":21,\"d0:52:a8:00:67:5e\":22,\"f4:f2:6d:93:51:f1\":23,\"50:c7:bf:00:56:39\":24,\"18:b7:9e:02:20:44\":25,\"00:24:e4:10:ee:4c\":26,\"00:24:e4:1b:6f:96\":27,\"00:24:e4:20:28:c6\":28,\"00:62:6e:51:27:2e\":29,'e8:ab:fa:19:de:4f':30,\"08:21:ef:3b:fc:e3\":31,\"40:f3:08:ff:1e:da\":32,\"74:2f:68:81:69:42\":33,\"ac:bc:32:d4:6f:2f\":34,\"b4:ce:f6:a7:a3:c2\":35,\"d0:a6:37:df:a1:e1\":36,\"f4:5c:89:93:cc:85\":37,\"14:cc:20:51:33:ea\":38,\"01:00:5e:7f:ff:fa\":39},na_action=None).replace({np.NaN:-1})"
      ],
      "metadata": {
        "id": "1q-devS2_89C"
      },
      "execution_count": null,
      "outputs": []
    },
    {
      "cell_type": "markdown",
      "source": [
        ""
      ],
      "metadata": {
        "id": "un8RrsjKLmdl"
      }
    },
    {
      "cell_type": "code",
      "source": [
        "label_encoder = preprocessing.LabelEncoder()\n",
        "result['IP.src']= label_encoder.fit_transform(result['IP.src'])\n"
      ],
      "metadata": {
        "id": "xKUK0DfY7FQF"
      },
      "execution_count": null,
      "outputs": []
    },
    {
      "cell_type": "code",
      "source": [
        "label_encoder1 = preprocessing.LabelEncoder()\n",
        "result['IP.dst']= label_encoder1.fit_transform(result['IP.dst'])"
      ],
      "metadata": {
        "id": "7bEXmDP_JyJ0"
      },
      "execution_count": null,
      "outputs": []
    },
    {
      "cell_type": "code",
      "source": [
        "X = result.loc[:,['Packet ID','TIME','Size','eth.src','eth.dst','IP.src','IP.dst','IP.proto','port.src','port.dst']]\n",
        "\n",
        "\n",
        "y = result['Label']"
      ],
      "metadata": {
        "id": "j9yi98hHNAiX"
      },
      "execution_count": null,
      "outputs": []
    },
    {
      "cell_type": "code",
      "source": [
        "X_train, X_test, y_train, y_test = train_test_split(X,y, test_size=0.3)\n",
        "print(X_train.shape, y_train.shape)\n",
        "print(X_test.shape, y_test.shape)"
      ],
      "metadata": {
        "id": "ClJxkEUaMvju",
        "colab": {
          "base_uri": "https://localhost:8080/"
        },
        "outputId": "6185f12c-2623-443a-dbf2-62cdab8be49b"
      },
      "execution_count": null,
      "outputs": [
        {
          "output_type": "stream",
          "name": "stdout",
          "text": [
            "(308119, 10) (308119,)\n",
            "(132051, 10) (132051,)\n"
          ]
        }
      ]
    },
    {
      "cell_type": "code",
      "execution_count": null,
      "metadata": {
        "id": "-j8QBs3ts3nC",
        "colab": {
          "base_uri": "https://localhost:8080/"
        },
        "outputId": "5595263f-115f-470e-b1ad-8abc0e2a6256"
      },
      "outputs": [
        {
          "output_type": "stream",
          "name": "stdout",
          "text": [
            "RandomForestClassifier()\n",
            "[0.9980438414900067, 0.9999697086731641, 0.9999034099452995, 0.9962901399876191]\n",
            "1.00 accuracy with a standard deviation of 0.00\n"
          ]
        }
      ],
      "source": [
        "clf = RandomForestClassifier(n_estimators=100)\n",
        "print(clf)\n",
        "l = train_test(clf, X_train, y_train, X_test, y_test)\n",
        "print(l)\n",
        "scores = cross_val_score(clf, X, y, cv=5) \n",
        "print(\"%0.2f accuracy with a standard deviation of %0.2f\" % (scores.mean(), scores.std()))\n",
        "#print(clf.classification_metrics)"
      ]
    },
    {
      "cell_type": "code",
      "source": [
        "y_pred=clf.predict(X_test)"
      ],
      "metadata": {
        "id": "XqFDfObXtU-6"
      },
      "execution_count": null,
      "outputs": []
    },
    {
      "cell_type": "code",
      "execution_count": null,
      "metadata": {
        "id": "zL2a-860Fit1"
      },
      "outputs": [],
      "source": [
        "cm=confusion_matrix(y_test,y_pred)"
      ]
    },
    {
      "cell_type": "code",
      "execution_count": null,
      "metadata": {
        "id": "YJsWtZTlHsso",
        "colab": {
          "base_uri": "https://localhost:8080/",
          "height": 880
        },
        "outputId": "e3ece79a-3efa-4274-89ea-9c28278040d2"
      },
      "outputs": [
        {
          "output_type": "execute_result",
          "data": {
            "text/plain": [
              "<matplotlib.axes._subplots.AxesSubplot at 0x7fe5db137d50>"
            ]
          },
          "metadata": {},
          "execution_count": 34
        },
        {
          "output_type": "display_data",
          "data": {
            "text/plain": [
              "<Figure size 1080x1080 with 2 Axes>"
            ],
            "image/png": "[encoded data removed]"
          },
          "metadata": {
            "needs_background": "light"
          }
        }
      ],
      "source": [
        "\n",
        "fig, ax = plt.subplots(figsize=(15,15))         # Sample figsize in inches\n",
        "sns.heatmap(cm, annot=True, linewidths=.5, ax=ax)"
      ]
    }
  ],
  "metadata": {
    "colab": {
      "collapsed_sections": [],
      "name": "Final label working",
      "provenance": []
    },
    "kernelspec": {
      "display_name": "Python 3",
      "name": "python3"
    },
    "language_info": {
      "name": "python"
    }
  },
  "nbformat": 4,
  "nbformat_minor": 0
}